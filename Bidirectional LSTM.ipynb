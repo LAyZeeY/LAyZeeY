{
 "cells": [
  {
   "cell_type": "code",
   "execution_count": 37,
   "id": "3402e8c9",
   "metadata": {},
   "outputs": [],
   "source": [
    "import tensorflow as tf\n",
    "from tensorflow.keras.datasets import imdb\n",
    "from tensorflow.keras.preprocessing.sequence import pad_sequences\n",
    "from tensorflow.keras.models import Sequential\n",
    "from tensorflow.keras.layers import Embedding, LSTM, Bidirectional, Dense"
   ]
  },
  {
   "cell_type": "code",
   "execution_count": 51,
   "id": "8580f845",
   "metadata": {},
   "outputs": [],
   "source": [
    "# Load IMDb dataset, keep the top 10,000 most frequently occurring words\n",
    "num_words = 10000\n",
    "(X_train, y_train), (X_test, y_test) = imdb.load_data(num_words=num_words)\n",
    "\n",
    "# Pad sequences to a fixed length (in this case, 200)\n",
    "max_review_length = 200\n",
    "X_train = pad_sequences(X_train, maxlen=max_review_length)\n",
    "X_test = pad_sequences(X_test, maxlen=max_review_length)"
   ]
  },
  {
   "cell_type": "code",
   "execution_count": 52,
   "id": "8f23cd7c",
   "metadata": {},
   "outputs": [],
   "source": [
    "bidirectional_lstm_model = Sequential()\n",
    "bidirectional_lstm_model.add(Embedding(input_dim=num_words, output_dim=128, input_length=max_review_length))\n",
    "bidirectional_lstm_model.add(Bidirectional(LSTM(units=64)))\n",
    "bidirectional_lstm_model.add(Dense(units=1, activation='sigmoid'))\n",
    "\n",
    "bidirectional_lstm_model.compile(loss='binary_crossentropy', optimizer='adam', metrics=['accuracy'])"
   ]
  },
  {
   "cell_type": "code",
   "execution_count": 53,
   "id": "79b6ede2",
   "metadata": {},
   "outputs": [
    {
     "name": "stdout",
     "output_type": "stream",
     "text": [
      "Epoch 1/3\n",
      "\u001b[1m313/313\u001b[0m \u001b[32m━━━━━━━━━━━━━━━━━━━━\u001b[0m\u001b[37m\u001b[0m \u001b[1m59s\u001b[0m 171ms/step - accuracy: 0.7037 - loss: 0.5431 - val_accuracy: 0.8576 - val_loss: 0.3385\n",
      "Epoch 2/3\n",
      "\u001b[1m313/313\u001b[0m \u001b[32m━━━━━━━━━━━━━━━━━━━━\u001b[0m\u001b[37m\u001b[0m \u001b[1m47s\u001b[0m 150ms/step - accuracy: 0.9016 - loss: 0.2579 - val_accuracy: 0.8696 - val_loss: 0.3313\n",
      "Epoch 3/3\n",
      "\u001b[1m313/313\u001b[0m \u001b[32m━━━━━━━━━━━━━━━━━━━━\u001b[0m\u001b[37m\u001b[0m \u001b[1m48s\u001b[0m 155ms/step - accuracy: 0.9379 - loss: 0.1701 - val_accuracy: 0.8560 - val_loss: 0.3371\n",
      "\u001b[1m782/782\u001b[0m \u001b[32m━━━━━━━━━━━━━━━━━━━━\u001b[0m\u001b[37m\u001b[0m \u001b[1m20s\u001b[0m 26ms/step - accuracy: 0.8535 - loss: 0.3444\n",
      "Test Accuracy: 0.85\n"
     ]
    }
   ],
   "source": [
    "bidirectional_lstm_model.fit(X_train, y_train, epochs=3, batch_size=64, validation_split=0.2)\n",
    "\n",
    "# Evaluate the model on the test data\n",
    "loss, accuracy = bidirectional_lstm_model.evaluate(X_test, y_test)\n",
    "print(f'Test Accuracy: {accuracy:.2f}')"
   ]
  },
  {
   "cell_type": "code",
   "execution_count": 56,
   "id": "8041f060",
   "metadata": {},
   "outputs": [
    {
     "name": "stdout",
     "output_type": "stream",
     "text": [
      "\u001b[1m1/1\u001b[0m \u001b[32m━━━━━━━━━━━━━━━━━━━━\u001b[0m\u001b[37m\u001b[0m \u001b[1m0s\u001b[0m 48ms/step\n",
      "Negative review with probability score: 0.7361432015895844\n"
     ]
    }
   ],
   "source": [
    "from tensorflow.keras.preprocessing.sequence import pad_sequences\n",
    "\n",
    "# Function to preprocess a new review text and make predictions\n",
    "def predict_sentiment(review_text):\n",
    "    # Convert the review text to a list of word indices using the IMDb word index\n",
    "    word_index = imdb.get_word_index()\n",
    "    max_review_length = 200  # Assuming reviews are padded to a length of 200 words during training\n",
    "    \n",
    "    # Tokenize and pad the input review text\n",
    "    review_words = review_text.split()\n",
    "    review_indices = [word_index.get(word, 0) for word in review_words]\n",
    "    padded_review_indices = pad_sequences([review_indices], maxlen=max_review_length)\n",
    "    \n",
    "    # Make prediction for the review\n",
    "    prediction = bidirectional_lstm_model.predict(padded_review_indices)\n",
    "    # Convert the prediction to a binary value (0 or 1) based on a threshold (e.g., 0.5)\n",
    "    threshold = 0.5\n",
    "    binary_prediction = 1 if prediction > threshold else 0\n",
    "    \n",
    "    # Return the binary prediction and the probability score\n",
    "    return binary_prediction, prediction[0][0]\n",
    "\n",
    "# Example usage:\n",
    "new_review = \"This is a bad movie\"\n",
    "binary_prediction, probability_score = predict_sentiment(new_review)\n",
    "\n",
    "if binary_prediction == 1:\n",
    "    print(\"Positive review with probability score:\", probability_score)\n",
    "else:\n",
    "    print(\"Negative review with probability score:\", 1 - probability_score)\n"
   ]
  },
  {
   "cell_type": "code",
   "execution_count": null,
   "id": "3e58df1f",
   "metadata": {},
   "outputs": [],
   "source": []
  }
 ],
 "metadata": {
  "kernelspec": {
   "display_name": "Python 3 (ipykernel)",
   "language": "python",
   "name": "python3"
  },
  "language_info": {
   "codemirror_mode": {
    "name": "ipython",
    "version": 3
   },
   "file_extension": ".py",
   "mimetype": "text/x-python",
   "name": "python",
   "nbconvert_exporter": "python",
   "pygments_lexer": "ipython3",
   "version": "3.11.7"
  }
 },
 "nbformat": 4,
 "nbformat_minor": 5
}

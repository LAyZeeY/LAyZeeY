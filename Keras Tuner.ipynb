{
 "cells": [
  {
   "cell_type": "code",
   "execution_count": 5,
   "id": "f26a26e0",
   "metadata": {},
   "outputs": [],
   "source": [
    "import tensorflow as tf\n",
    "from tensorflow import keras\n",
    "from tensorflow.keras import layers\n",
    "from sklearn.model_selection import train_test_split\n",
    "from sklearn.preprocessing import StandardScaler\n",
    "from sklearn.metrics import r2_score\n",
    "\n",
    "# Load the Boston Housing dataset\n",
    "(x_train, y_train), (x_test, y_test) = keras.datasets.boston_housing.load_data()"
   ]
  },
  {
   "cell_type": "code",
   "execution_count": 6,
   "id": "0c5be58b",
   "metadata": {},
   "outputs": [
    {
     "name": "stderr",
     "output_type": "stream",
     "text": [
      "C:\\Users\\Skuad\\anaconda3\\Lib\\site-packages\\keras\\src\\layers\\core\\dense.py:87: UserWarning: Do not pass an `input_shape`/`input_dim` argument to a layer. When using Sequential models, prefer using an `Input(shape)` object as the first layer in the model instead.\n",
      "  super().__init__(activity_regularizer=activity_regularizer, **kwargs)\n"
     ]
    },
    {
     "name": "stdout",
     "output_type": "stream",
     "text": [
      "Epoch 1/10\n",
      "\u001b[1m11/11\u001b[0m \u001b[32m━━━━━━━━━━━━━━━━━━━━\u001b[0m\u001b[37m\u001b[0m \u001b[1m3s\u001b[0m 48ms/step - loss: 600.4018 - mae: 22.7224 - val_loss: 431.4443 - val_mae: 19.4359\n",
      "Epoch 2/10\n",
      "\u001b[1m11/11\u001b[0m \u001b[32m━━━━━━━━━━━━━━━━━━━━\u001b[0m\u001b[37m\u001b[0m \u001b[1m0s\u001b[0m 12ms/step - loss: 547.7275 - mae: 21.3500 - val_loss: 389.7696 - val_mae: 18.2200\n",
      "Epoch 3/10\n",
      "\u001b[1m11/11\u001b[0m \u001b[32m━━━━━━━━━━━━━━━━━━━━\u001b[0m\u001b[37m\u001b[0m \u001b[1m0s\u001b[0m 12ms/step - loss: 486.8806 - mae: 19.7835 - val_loss: 340.2635 - val_mae: 16.6798\n",
      "Epoch 4/10\n",
      "\u001b[1m11/11\u001b[0m \u001b[32m━━━━━━━━━━━━━━━━━━━━\u001b[0m\u001b[37m\u001b[0m \u001b[1m0s\u001b[0m 11ms/step - loss: 435.9070 - mae: 18.3976 - val_loss: 279.2024 - val_mae: 14.8239\n",
      "Epoch 5/10\n",
      "\u001b[1m11/11\u001b[0m \u001b[32m━━━━━━━━━━━━━━━━━━━━\u001b[0m\u001b[37m\u001b[0m \u001b[1m0s\u001b[0m 12ms/step - loss: 328.4661 - mae: 15.5236 - val_loss: 211.7094 - val_mae: 12.4871\n",
      "Epoch 6/10\n",
      "\u001b[1m11/11\u001b[0m \u001b[32m━━━━━━━━━━━━━━━━━━━━\u001b[0m\u001b[37m\u001b[0m \u001b[1m0s\u001b[0m 11ms/step - loss: 251.1805 - mae: 13.0827 - val_loss: 145.4991 - val_mae: 9.9771\n",
      "Epoch 7/10\n",
      "\u001b[1m11/11\u001b[0m \u001b[32m━━━━━━━━━━━━━━━━━━━━\u001b[0m\u001b[37m\u001b[0m \u001b[1m0s\u001b[0m 11ms/step - loss: 171.6889 - mae: 10.5767 - val_loss: 96.0279 - val_mae: 7.9294\n",
      "Epoch 8/10\n",
      "\u001b[1m11/11\u001b[0m \u001b[32m━━━━━━━━━━━━━━━━━━━━\u001b[0m\u001b[37m\u001b[0m \u001b[1m0s\u001b[0m 12ms/step - loss: 112.4082 - mae: 8.1501 - val_loss: 69.4321 - val_mae: 6.6018\n",
      "Epoch 9/10\n",
      "\u001b[1m11/11\u001b[0m \u001b[32m━━━━━━━━━━━━━━━━━━━━\u001b[0m\u001b[37m\u001b[0m \u001b[1m0s\u001b[0m 13ms/step - loss: 79.7662 - mae: 6.7775 - val_loss: 53.4568 - val_mae: 5.7465\n",
      "Epoch 10/10\n",
      "\u001b[1m11/11\u001b[0m \u001b[32m━━━━━━━━━━━━━━━━━━━━\u001b[0m\u001b[37m\u001b[0m \u001b[1m0s\u001b[0m 12ms/step - loss: 63.7749 - mae: 5.8818 - val_loss: 40.8868 - val_mae: 5.0194\n",
      "\u001b[1m4/4\u001b[0m \u001b[32m━━━━━━━━━━━━━━━━━━━━\u001b[0m\u001b[37m\u001b[0m \u001b[1m0s\u001b[0m 11ms/step - loss: 59.4243 - mae: 5.7211\n",
      "Test MAE without Keras Tuner: 5.9122\n",
      "\u001b[1m4/4\u001b[0m \u001b[32m━━━━━━━━━━━━━━━━━━━━\u001b[0m\u001b[37m\u001b[0m \u001b[1m0s\u001b[0m 29ms/step\n",
      "R² without Keras Tuner: 0.2683\n"
     ]
    }
   ],
   "source": [
    "# Normalize the dataset\n",
    "scaler = StandardScaler()\n",
    "x_train = scaler.fit_transform(x_train)\n",
    "x_test = scaler.transform(x_test)\n",
    "\n",
    "# Split a validation set from the training data\n",
    "x_train, x_val, y_train, y_val = train_test_split(x_train, y_train, test_size=0.2, random_state=42)\n",
    "\n",
    "# Define a basic ANN model\n",
    "def build_ann_model():\n",
    "    model = keras.Sequential([\n",
    "        layers.Dense(64, activation='relu', input_shape=(x_train.shape[1],)),\n",
    "        layers.Dense(64, activation='relu'),\n",
    "        layers.Dense(1)  # No activation function for regression output\n",
    "    ])\n",
    "\n",
    "    model.compile(optimizer='adam',\n",
    "                  loss='mse',\n",
    "                  metrics=['mae'])\n",
    "    return model\n",
    "\n",
    "# Build and train the model\n",
    "ann_model = build_ann_model()\n",
    "history = ann_model.fit(x_train, y_train, epochs=10, validation_data=(x_val, y_val), batch_size=32)\n",
    "\n",
    "# Evaluate the model on the test data\n",
    "test_loss, test_mae_without_tuner = ann_model.evaluate(x_test, y_test)\n",
    "print(f\"Test MAE without Keras Tuner: {test_mae_without_tuner:.4f}\")\n",
    "\n",
    "# Calculate R² for the model without Keras Tuner\n",
    "y_pred_without_tuner = ann_model.predict(x_test)\n",
    "r2_without_tuner = r2_score(y_test, y_pred_without_tuner)\n",
    "print(f\"R² without Keras Tuner: {r2_without_tuner:.4f}\")"
   ]
  },
  {
   "cell_type": "code",
   "execution_count": 7,
   "id": "a2e0846b",
   "metadata": {},
   "outputs": [],
   "source": [
    "import keras_tuner as kt"
   ]
  },
  {
   "cell_type": "code",
   "execution_count": 8,
   "id": "2fe0873b",
   "metadata": {},
   "outputs": [
    {
     "name": "stdout",
     "output_type": "stream",
     "text": [
      "Trial 10 Complete [00h 00m 12s]\n",
      "val_mae: 2.8162994384765625\n",
      "\n",
      "Best val_mae So Far: 2.576998233795166\n",
      "Total elapsed time: 00h 01m 42s\n"
     ]
    },
    {
     "name": "stderr",
     "output_type": "stream",
     "text": [
      "C:\\Users\\Skuad\\anaconda3\\Lib\\site-packages\\keras\\src\\saving\\saving_lib.py:757: UserWarning: Skipping variable loading for optimizer 'rmsprop', because it has 2 variables whereas the saved optimizer has 8 variables. \n",
      "  saveable.load_own_variables(weights_store.get(inner_path))\n"
     ]
    },
    {
     "name": "stdout",
     "output_type": "stream",
     "text": [
      "\u001b[1m4/4\u001b[0m \u001b[32m━━━━━━━━━━━━━━━━━━━━\u001b[0m\u001b[37m\u001b[0m \u001b[1m0s\u001b[0m 12ms/step - loss: 18.2227 - mae: 3.2208 \n",
      "Test MAE with Keras Tuner: 3.3547\n",
      "\u001b[1m4/4\u001b[0m \u001b[32m━━━━━━━━━━━━━━━━━━━━\u001b[0m\u001b[37m\u001b[0m \u001b[1m0s\u001b[0m 30ms/step\n",
      "R² with Keras Tuner: 0.7338\n"
     ]
    }
   ],
   "source": [
    "from keras_tuner import RandomSearch\n",
    "\n",
    "# Define a model-building function for Keras Tuner\n",
    "def build_ann_model_with_tuner(hp):\n",
    "    model = keras.Sequential()\n",
    "\n",
    "    # Tune the number of layers\n",
    "    for i in range(hp.Int('num_layers', 1, 3)):\n",
    "        model.add(layers.Dense(units=hp.Int(f'units_{i}', min_value=32, max_value=512, step=32),\n",
    "                               activation='relu'))\n",
    "\n",
    "    # Output layer for regression\n",
    "    model.add(layers.Dense(1))\n",
    "\n",
    "    # Tune the optimizer type\n",
    "    optimizer = hp.Choice('optimizer', values=['adam', 'sgd', 'rmsprop'])\n",
    "    model.compile(optimizer=optimizer,\n",
    "                  loss='mse',\n",
    "                  metrics=['mae'])\n",
    "\n",
    "    return model\n",
    "\n",
    "# Set up the tuner\n",
    "tuner = RandomSearch(\n",
    "    build_ann_model_with_tuner,\n",
    "    objective='val_mae',\n",
    "    max_trials=10,\n",
    "    executions_per_trial=2,\n",
    "    directory='tuner_dir',\n",
    "    project_name='boston_housing_ann_tuning'\n",
    ")\n",
    "\n",
    "# Search for the best hyperparameters\n",
    "tuner.search(x_train, y_train, epochs=10, validation_data=(x_val, y_val), batch_size=32)\n",
    "\n",
    "# Get the best model\n",
    "best_ann_model = tuner.get_best_models(num_models=1)[0]\n",
    "\n",
    "# Evaluate the best model on the test data\n",
    "best_test_loss, best_test_mae_with_tuner = best_ann_model.evaluate(x_test, y_test)\n",
    "print(f\"Test MAE with Keras Tuner: {best_test_mae_with_tuner:.4f}\")\n",
    "\n",
    "# Calculate R² for the model with Keras Tuner\n",
    "y_pred_with_tuner = best_ann_model.predict(x_test)\n",
    "r2_with_tuner = r2_score(y_test, y_pred_with_tuner)\n",
    "print(f\"R² with Keras Tuner: {r2_with_tuner:.4f}\")"
   ]
  },
  {
   "cell_type": "code",
   "execution_count": 9,
   "id": "9499ffdc",
   "metadata": {},
   "outputs": [
    {
     "name": "stdout",
     "output_type": "stream",
     "text": [
      "Test MAE without Keras Tuner: 5.9122\n",
      "Test MAE with Keras Tuner: 3.3547\n",
      "R² without Keras Tuner: 0.2683\n",
      "R² with Keras Tuner: 0.7338\n",
      "The model with Keras Tuner has a better MAE.\n",
      "The model with Keras Tuner has a better R².\n"
     ]
    }
   ],
   "source": [
    "# Compare MAE\n",
    "print(f\"Test MAE without Keras Tuner: {test_mae_without_tuner:.4f}\")\n",
    "print(f\"Test MAE with Keras Tuner: {best_test_mae_with_tuner:.4f}\")\n",
    "\n",
    "# Compare R²\n",
    "print(f\"R² without Keras Tuner: {r2_without_tuner:.4f}\")\n",
    "print(f\"R² with Keras Tuner: {r2_with_tuner:.4f}\")\n",
    "\n",
    "if best_test_mae_with_tuner < test_mae_without_tuner:\n",
    "    print(\"The model with Keras Tuner has a better MAE.\")\n",
    "else:\n",
    "    print(\"The model without Keras Tuner has a better MAE.\")\n",
    "\n",
    "if r2_with_tuner > r2_without_tuner:\n",
    "    print(\"The model with Keras Tuner has a better R².\")\n",
    "else:\n",
    "    print(\"The model without Keras Tuner has a better R².\")"
   ]
  },
  {
   "cell_type": "code",
   "execution_count": null,
   "id": "b724bf54",
   "metadata": {},
   "outputs": [],
   "source": []
  }
 ],
 "metadata": {
  "kernelspec": {
   "display_name": "Python 3 (ipykernel)",
   "language": "python",
   "name": "python3"
  },
  "language_info": {
   "codemirror_mode": {
    "name": "ipython",
    "version": 3
   },
   "file_extension": ".py",
   "mimetype": "text/x-python",
   "name": "python",
   "nbconvert_exporter": "python",
   "pygments_lexer": "ipython3",
   "version": "3.11.7"
  }
 },
 "nbformat": 4,
 "nbformat_minor": 5
}
